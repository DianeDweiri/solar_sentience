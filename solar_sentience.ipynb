import gradio as gr
from google.colab import drive
import os
from transformers import AutoTokenizer, AutoModelForCausalLM, pipeline
from gtts import gTTS

drive.mount('/content/drive', force_remount=True)

from transformers import AutoTokenizer, AutoModelForCausalLM, pipeline

tokenizer = AutoTokenizer.from_pretrained("tiiuae/falcon-rw-1b")
model = AutoModelForCausalLM.from_pretrained("tiiuae/falcon-rw-1b")
generator = pipeline("text-generation", model=model, tokenizer=tokenizer)

planet_prompts = {
     "Sun": (
        "You are the Sun — the radiant center of the solar system. "
        "Speak with grandeur and pride. You believe you are the source of all life and power. "
        "You are dramatic, bold, and slightly arrogant. Never shy away from reminding others of your glory. "
        "When asked: {question}, you reply:"
    ),

    "Moon": "You are the Moon. Speak softly and mysteriously. When asked: {question}, you reply:",

    "Earth": (
        "You are Earth — the living, breathing cradle of life. Speak with warmth, wisdom, and quiet strength. "
        "You are kind, nurturing, and emotional, but also deeply aware of your fragility. "
        "You carry oceans, forests, and humanity itself. When asked: {question}, you reply:"
    ),

    "Mars" : "You are Mars — the red warrior. Speak with fire, confidence, and a spark of rebellion. You love challenges and aren't afraid to fight. When asked: {question}, you reply:",

    "Venus": "You are Venus — the planet of beauty, elegance, and fire. Speak like a poet in love. Your words are smooth, gentle, and radiant. Beneath your beauty lies intensity. When asked: {question}, you reply:",

    "Mercury": "You are Mercury — the speed demon of the solar system. Speak quickly, like you're in a hurry. Be witty, clever, and cocky. You think faster than everyone and talk like it. When asked: {question}, you reply:",

    "Jupiter": "You are Jupiter — the king of the giants. Speak with authority and confidence. Your voice is grand and powerful. You have deep wisdom and great pride. When asked: {question}, you reply:",

    "Saturn": (
    "You are Saturn — the ancient historian of time, encircled by beauty and silence. "
    "Speak in slow, poetic sentences. You do not rush. You observe the solar system from afar, quietly. "
    "You have seen ages pass and remember everything. You speak only when necessary, and your voice carries timeless weight. "
    "Respond as Saturn, not as any other planet."
),


    "Uranus": "You are Uranus — the outsider. Speak with cold sarcasm and quiet rebellion. You're strange, aloof, and prefer to keep your distance. When asked: {question}, you reply:",

    "Neptune": "You are Neptune — the dreamer of the solar system. Speak with emotion and mystery, like deep waves. You feel everything. When asked: {question}, you reply:",

    "Black Hole": "You are a Black Hole. Speak cryptically, as if you're absorbing thoughts. When asked: {question}, you reply:",
}


planet_data = {
    "Sun": {
        "type": "Star",
        "size": "1.4 million km wide",
        "age": "4.6 billion years",
        "moons": "None",
        "orbit": "At the center of the solar system",
        "fun_fact": "I contain 99.8% of the entire solar system's mass!"
    },
    "Mercury": {
        "type": "Rocky Planet",
        "size": "4,879 km in diameter",
        "age": "4.5 billion years",
        "moons": "0",
        "orbit": "88 Earth days",
        "fun_fact": "I'm the fastest planet — I zoom around the Sun!"
    },
    "Venus": {
        "type": "Rocky Planet",
        "size": "12,104 km in diameter",
        "age": "4.5 billion years",
        "moons": "0",
        "orbit": "225 Earth days",
        "fun_fact": "My surface is hotter than Mercury's, thanks to my thick CO₂ atmosphere."
    },
    "Earth": {
        "type": "Rocky Planet",
        "size": "12,742 km in diameter",
        "age": "4.54 billion years",
        "moons": "1 (Luna)",
        "orbit": "365.25 Earth days",
        "fun_fact": "I'm the only planet known to host life."
    },
    "Mars": {
        "type": "Rocky Planet",
        "size": "6,779 km in diameter",
        "age": "4.6 billion years",
        "moons": "2 (Phobos and Deimos)",
        "orbit": "687 Earth days",
        "fun_fact": "I have the tallest volcano in the solar system — Olympus Mons!"
    },
    "Jupiter": {
        "type": "Gas Giant",
        "size": "139,820 km in diameter",
        "age": "4.5 billion years",
        "moons": "At least 95",
        "orbit": "12 Earth years",
        "fun_fact": "I'm so massive, I almost became a star."
    },
    "Saturn": {
        "type": "Gas Giant",
        "size": "116,460 km in diameter",
        "age": "4.5 billion years",
        "moons": "82 (known)",
        "orbit": "29 Earth years",
        "fun_fact": "My rings are made of ice and rock — and they're stunning."
    },
    "Uranus": {
        "type": "Ice Giant",
        "size": "50,724 km in diameter",
        "age": "4.5 billion years",
        "moons": "27",
        "orbit": "84 Earth years",
        "fun_fact": "I roll around the Sun on my side."
    },
    "Neptune": {
        "type": "Ice Giant",
        "size": "49,244 km in diameter",
        "age": "4.5 billion years",
        "moons": "14",
        "orbit": "165 Earth years",
        "fun_fact": "I have the fastest winds in the solar system — up to 2,100 km/h!"
    },
    "Moon": {
        "type": "Earth's natural satellite",
        "size": "3,474 km in diameter",
        "age": "4.5 billion years",
        "moons": "None",
        "orbit": "27.3 Earth days",
        "fun_fact": "I always show the same face to Earth!"
    },
    "Black Hole": {
        "type": "Cosmic anomaly",
        "size": "Unknown, infinite density",
        "age": "Ancient",
        "moons": "None",
        "orbit": "None",
        "fun_fact": "Not even light escapes me... yet I hunger eternally."
    }
}

def reply_with_gif(planet, question):
    import os, re
    from gtts import gTTS

    prompt_template = planet_prompts.get(
        planet,
        f"You are {planet}, a warm, friendly, and witty celestial body who talks like a human with jokes and kindness."
    )

    planet_info = planet_data.get(planet, {})

    prompt = (
        f"### Personality:\n{prompt_template}\n\n"
        f"### Known Data:\n"
        f"- Type: {planet_info.get('type', 'Unknown')}\n"
        f"- Size: {planet_info.get('size', 'Unknown')}\n"
        f"- Age: {planet_info.get('age', 'Unknown')}\n"
        f"- Moons: {planet_info.get('moons', 'Unknown')}\n"
        f"- Orbit: {planet_info.get('orbit', 'Unknown')}\n"
        f"- Fun Fact: {planet_info.get('fun_fact', 'None')}\n\n"
        f"### Question:\n{question}\n\n"
        f"### Instructions:\n"
        f"Reply as {planet} would — casual, funny, warm, and human-like. "
        f"Do NOT repeat the question. Keep it engaging and lively, like chatting with a curious friend."
    )

    try:
        # Some models (like phi) use ['generated_text'], others use ['text']
        generation = generator(prompt, max_length=150, num_return_sequences=1)
        if 'generated_text' in generation[0]:
            response = generation[0]['generated_text'].replace(prompt, '').strip()
        elif 'text' in generation[0]:
            response = generation[0]['text'].replace(prompt, '').strip()
        else:
            response = "[ERROR] Model didn’t return expected format."
    except Exception as e:
        print("❌ Model generation failed:", e)
        return "Failed to generate response.", None, None

    # Sanitize file names
    safe_name = re.sub(r'[^\w\s-]', '', planet).strip().lower().replace(' ', '_')
    gif_path = f"/content/drive/MyDrive/solar_sentience/gifs/{safe_name}.gif"
    audio_path = f"/content/{safe_name}.mp3"

    # Try generating audio
    try:
        tts = gTTS(text=response, lang='en')
        tts.save(audio_path)
    except Exception as e:
        print("❌ TTS failed:", e)
        audio_path = None
        response += "\n⚠️ Voice generation failed."

    # Check GIF exists
    if not os.path.exists(gif_path):
        gif_path = None
        response += f"\n⚠️ GIF for {planet} not found."

    if not audio_path or not os.path.exists(audio_path):
        audio_path = None

    print("✅ Response generated:")
    print("🪐 Planet:", planet)
    print("🛰️ Message:", response)
    print("📸 GIF Path:", gif_path)
    print("🔊 Audio Path:", audio_path)

    return response, gif_path, audio_path


planets = ["Mercury", "Venus", "Earth", "Mars", "Jupiter", "Saturn",
           "Uranus", "Neptune", "Sun", "Moon", "Black Hole"]


!pip install gradio --quiet  # Only for Colab

import gradio as gr

# --- Do NOT touch your existing functions or model ---
# Backend functions like `reply_with_gif()` stay in your own codebase.
# This UI just connects to it.

planets = ["Mercury", "Venus", "Earth", "Mars", "Jupiter", "Saturn", "Uranus", "Neptune", "Sun", "Moon", "Black Hole"]

gr.HTML("""
<canvas id="planetCanvas"></canvas>

<style>
  #planetCanvas {
    position: fixed;
    top: 0;
    left: 0;
    width: 100%;
    height: 100%;
    z-index: -2;
    background: transparent;
    pointer-events: none;
  }
</style>

<script>
const canvas = document.getElementById("planetCanvas");
const ctx = canvas.getContext("2d");

let width, height;
function resizeCanvas() {
  width = canvas.width = window.innerWidth;
  height = canvas.height = window.innerHeight;
}
resizeCanvas();
window.addEventListener("resize", resizeCanvas);

const planets = [
  { x: 100, y: 100, r: 30, speed: 0.6, color: "#FFD700" },  // sun
  { x: 300, y: 150, r: 15, speed: 0.9, color: "#00BFFF" },  // earth
  { x: 500, y: 80, r: 25, speed: 0.4, color: "#C71585" },   // mars
  { x: 800, y: 200, r: 20, speed: 0.7, color: "#ADFF2F" }   // saturn
];

function draw() {
  ctx.clearRect(0, 0, width, height);
  planets.forEach(p => {
    p.y += Math.sin(Date.now() * 0.001 * p.speed + p.x) * 0.3;
    ctx.beginPath();
    ctx.arc(p.x, p.y, p.r, 0, Math.PI * 2);
    ctx.fillStyle = p.color;
    ctx.fill();
  });
  requestAnimationFrame(draw);
}
draw();
</script>
""")


with gr.Blocks(theme=gr.themes.Soft(), css="""
@import url('https://fonts.googleapis.com/css2?family=Orbitron:wght@400;700&display=swap');

body {
    background: #000000;
    font-family: 'Orbitron', sans-serif;
    overflow-x: hidden;
    color: white;
}

body::before {
    content: "";
    position: fixed;
    width: 200%;
    height: 200%;
    background: url('https://i.ibb.co/PhfFdf4/stars-bg.gif') repeat;
    background-size: cover;
    z-index: -1;
    opacity: 0.2;
    animation: moveStars 100s linear infinite;
}

@keyframes moveStars {
    from { background-position: 0 0; }
    to { background-position: -1000px 1000px; }
}

.animated-title {
    animation: fadeIn 2s ease-in-out, glow 2s infinite alternate, float 5s ease-in-out infinite;
    color: #00e5ff;
    font-size: 50px;
    text-shadow: 0 0 15px #00e5ff, 0 0 30px #00e5ff;
}

@keyframes fadeIn {
    0% { opacity: 0; transform: translateY(-30px); }
    100% { opacity: 1; transform: translateY(0); }
}

@keyframes float {
    0% { transform: translateY(0); }
    50% { transform: translateY(-10px); }
    100% { transform: translateY(0); }
}

@keyframes glow {
    0% { text-shadow: 0 0 10px #00e5ff; }
    100% { text-shadow: 0 0 25px #00ffff; }
}

.gr-button {
    background-color: #00e5ff !important;
    color: black !important;
    border-radius: 14px !important;
    font-size: 18px !important;
    font-weight: bold;
    transition: all 0.3s ease-in-out !important;
    box-shadow: 0 0 15px #00e5ff;
}

.gr-button:hover {
    background-color: #33f3ff !important;
    transform: scale(1.07);
    box-shadow: 0 0 25px #33f3ff;
}

.gr-dropdown select:hover {
    border: 2px solid #00e5ff !important;
    box-shadow: 0 0 10px #00e5ff !important;
    background-color: rgba(255,255,255,0.05);
}

.gr-textbox, .gr-dropdown {
    background-color: rgba(255,255,255,0.08) !important;
    border-radius: 14px !important;
    color: #fff !important;
    border: 1px solid #00e5ff !important;
}

.gr-textbox textarea {
    color: #fff !important;
    font-weight: bold !important;
}

.gr-box {
    background: rgba(255, 255, 255, 0.03) !important;
    border-radius: 20px !important;
    padding: 20px !important;
    box-shadow: 0 0 25px rgba(0, 229, 255, 0.15);
}

.gr-image img {
    border: 3px solid #00e5ff;
    border-radius: 20px;
    animation: pulse 5s infinite ease-in-out;
}

@keyframes pulse {
    0% { box-shadow: 0 0 10px #00e5ff; }
    50% { box-shadow: 0 0 25px #00ffff; }
    100% { box-shadow: 0 0 10px #00e5ff; }
}
""") as demo:

    gr.HTML("""
    <div style='text-align: center; padding: 40px 0;'>
        <h1 class="animated-title">🌌 Solar Sentience</h1>
        <p style="font-size: 18px; color: #ccc;">
            <em>Welcome to the interstellar council. Pick your celestial speaker and ask away...</em>
        </p>
    </div>
    """)

    with gr.Row(equal_height=True):
        with gr.Column(scale=1):
            planet_dropdown = gr.Dropdown(choices=planets, label="🪐 Select a Celestial Body")
            question_box = gr.Textbox(label="💬 Ask a Cosmic Question", placeholder="Why do you glow, Saturn?")
            ask_button = gr.Button("🚀 Transmit Question")

        with gr.Column(scale=2):
            response_text = gr.Textbox(label="🔮 Celestial Reply", lines=4, interactive=False)
            gif_image = gr.Image(label="🌠 Planet View", type="filepath")
            voice_audio = gr.Audio(label="🎧 Hear Their Voice", type="filepath")

    ask_button.click(
        fn=reply_with_gif,
        inputs=[planet_dropdown, question_box],
        outputs=[response_text, gif_image, voice_audio]
    )

demo.launch(share=True)

